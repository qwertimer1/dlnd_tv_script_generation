{
 "cells": [
  {
   "cell_type": "markdown",
   "metadata": {
    "deletable": true,
    "editable": true
   },
   "source": [
    "# TV Script Generation\n",
    "In this project, you'll generate your own [Simpsons](https://en.wikipedia.org/wiki/The_Simpsons) TV scripts using RNNs.  You'll be using part of the [Simpsons dataset](https://www.kaggle.com/wcukierski/the-simpsons-by-the-data) of scripts from 27 seasons.  The Neural Network you'll build will generate a new TV script for a scene at [Moe's Tavern](https://simpsonswiki.com/wiki/Moe's_Tavern).\n",
    "## Get the Data\n",
    "The data is already provided for you.  You'll be using a subset of the original dataset.  It consists of only the scenes in Moe's Tavern.  This doesn't include other versions of the tavern, like \"Moe's Cavern\", \"Flaming Moe's\", \"Uncle Moe's Family Feed-Bag\", etc.."
   ]
  },
  {
   "cell_type": "code",
   "execution_count": 66,
   "metadata": {
    "collapsed": false,
    "deletable": true,
    "editable": true
   },
   "outputs": [],
   "source": [
    "\"\"\"\n",
    "DON'T MODIFY ANYTHING IN THIS CELL\n",
    "\"\"\"\n",
    "import helper\n",
    "\n",
    "data_dir = './data/simpsons/moes_tavern_lines.txt'\n",
    "text = helper.load_data(data_dir)\n",
    "# Ignore notice, since we don't use it for analysing the data\n",
    "text = text[81:]"
   ]
  },
  {
   "cell_type": "markdown",
   "metadata": {
    "deletable": true,
    "editable": true
   },
   "source": [
    "## Explore the Data\n",
    "Play around with `view_sentence_range` to view different parts of the data."
   ]
  },
  {
   "cell_type": "code",
   "execution_count": 67,
   "metadata": {
    "collapsed": false,
    "deletable": true,
    "editable": true
   },
   "outputs": [
    {
     "name": "stdout",
     "output_type": "stream",
     "text": [
      "Dataset Stats\n",
      "Roughly the number of unique words: 11492\n",
      "Number of scenes: 262\n",
      "Average number of sentences in each scene: 15.248091603053435\n",
      "Number of lines: 4257\n",
      "Average number of words in each line: 11.50434578341555\n",
      "\n",
      "The sentences 0 to 10:\n",
      "Moe_Szyslak: (INTO PHONE) Moe's Tavern. Where the elite meet to drink.\n",
      "Bart_Simpson: Eh, yeah, hello, is Mike there? Last name, Rotch.\n",
      "Moe_Szyslak: (INTO PHONE) Hold on, I'll check. (TO BARFLIES) Mike Rotch. Mike Rotch. Hey, has anybody seen Mike Rotch, lately?\n",
      "Moe_Szyslak: (INTO PHONE) Listen you little puke. One of these days I'm gonna catch you, and I'm gonna carve my name on your back with an ice pick.\n",
      "Moe_Szyslak: What's the matter Homer? You're not your normal effervescent self.\n",
      "Homer_Simpson: I got my problems, Moe. Give me another one.\n",
      "Moe_Szyslak: Homer, hey, you should not drink to forget your problems.\n",
      "Barney_Gumble: Yeah, you should only drink to enhance your social skills.\n",
      "\n",
      "\n"
     ]
    }
   ],
   "source": [
    "view_sentence_range = (0, 10)\n",
    "\n",
    "\"\"\"\n",
    "DON'T MODIFY ANYTHING IN THIS CELL\n",
    "\"\"\"\n",
    "import numpy as np\n",
    "\n",
    "print('Dataset Stats')\n",
    "print('Roughly the number of unique words: {}'.format(len({word: None for word in text.split()})))\n",
    "scenes = text.split('\\n\\n')\n",
    "print('Number of scenes: {}'.format(len(scenes)))\n",
    "sentence_count_scene = [scene.count('\\n') for scene in scenes]\n",
    "print('Average number of sentences in each scene: {}'.format(np.average(sentence_count_scene)))\n",
    "\n",
    "sentences = [sentence for scene in scenes for sentence in scene.split('\\n')]\n",
    "print('Number of lines: {}'.format(len(sentences)))\n",
    "word_count_sentence = [len(sentence.split()) for sentence in sentences]\n",
    "print('Average number of words in each line: {}'.format(np.average(word_count_sentence)))\n",
    "\n",
    "print()\n",
    "print('The sentences {} to {}:'.format(*view_sentence_range))\n",
    "print('\\n'.join(text.split('\\n')[view_sentence_range[0]:view_sentence_range[1]]))"
   ]
  },
  {
   "cell_type": "markdown",
   "metadata": {
    "deletable": true,
    "editable": true
   },
   "source": [
    "## Implement Preprocessing Functions\n",
    "The first thing to do to any dataset is preprocessing.  Implement the following preprocessing functions below:\n",
    "- Lookup Table\n",
    "- Tokenize Punctuation\n",
    "\n",
    "### Lookup Table\n",
    "To create a word embedding, you first need to transform the words to ids.  In this function, create two dictionaries:\n",
    "- Dictionary to go from the words to an id, we'll call `vocab_to_int`\n",
    "- Dictionary to go from the id to word, we'll call `int_to_vocab`\n",
    "\n",
    "Return these dictionaries in the following tuple `(vocab_to_int, int_to_vocab)`"
   ]
  },
  {
   "cell_type": "code",
   "execution_count": 68,
   "metadata": {
    "collapsed": false,
    "deletable": true,
    "editable": true
   },
   "outputs": [
    {
     "name": "stdout",
     "output_type": "stream",
     "text": [
      "Tests Passed\n"
     ]
    }
   ],
   "source": [
    "import numpy as np\n",
    "import problem_unittests as tests\n",
    "from collections import Counter \n",
    "def create_lookup_tables(text):\n",
    "    \"\"\"\n",
    "    Create lookup tables for vocabulary\n",
    "    :param text: The text of tv scripts split into words\n",
    "    :return: A tuple of dicts (vocab_to_int, int_to_vocab)\n",
    "    \"\"\"\n",
    "    # TODO: Implement Function\n",
    "    #counts = Counter(text)\n",
    "    #vocab = sorted(counts, key=counts.get, reverse=True)\n",
    "    #converts word to integer\n",
    "    #vocab_to_int = {word: ii for ii, word in enumerate(text, 1)}\n",
    "    #converts integer to words\n",
    "    #int_to_vocab = {v:k for k, v in vocab_to_int.items()}\n",
    "    #print (int_to_vocab)\n",
    "    \n",
    "    \n",
    "    vocab = set(text)\n",
    "    vocab_to_int = {c: i for i, c in enumerate(vocab)}\n",
    "    int_to_vocab = dict(enumerate(vocab))\n",
    "    \n",
    "    return vocab_to_int, int_to_vocab\n",
    "\n",
    "\n",
    "\"\"\"\n",
    "DON'T MODIFY ANYTHING IN THIS CELL THAT IS BELOW THIS LINE\n",
    "\"\"\"\n",
    "tests.test_create_lookup_tables(create_lookup_tables)"
   ]
  },
  {
   "cell_type": "markdown",
   "metadata": {
    "deletable": true,
    "editable": true
   },
   "source": [
    "### Tokenize Punctuation\n",
    "We'll be splitting the script into a word array using spaces as delimiters.  However, punctuations like periods and exclamation marks make it hard for the neural network to distinguish between the word \"bye\" and \"bye!\".\n",
    "\n",
    "Implement the function `token_lookup` to return a dict that will be used to tokenize symbols like \"!\" into \"||Exclamation_Mark||\".  Create a dictionary for the following symbols where the symbol is the key and value is the token:\n",
    "- Period ( . )\n",
    "- Comma ( , )\n",
    "- Quotation Mark ( \" )\n",
    "- Semicolon ( ; )\n",
    "- Exclamation mark ( ! )\n",
    "- Question mark ( ? )\n",
    "- Left Parentheses ( ( )\n",
    "- Right Parentheses ( ) )\n",
    "- Dash ( -- )\n",
    "- Return ( \\n )\n",
    "\n",
    "This dictionary will be used to token the symbols and add the delimiter (space) around it.  This separates the symbols as it's own word, making it easier for the neural network to predict on the next word. Make sure you don't use a token that could be confused as a word. Instead of using the token \"dash\", try using something like \"||dash||\"."
   ]
  },
  {
   "cell_type": "code",
   "execution_count": 69,
   "metadata": {
    "collapsed": false,
    "deletable": true,
    "editable": true
   },
   "outputs": [
    {
     "name": "stdout",
     "output_type": "stream",
     "text": [
      "Tests Passed\n"
     ]
    }
   ],
   "source": [
    "def token_lookup():\n",
    "    \"\"\"\n",
    "    Generate a dict to turn punctuation into a token.\n",
    "    :return: Tokenize dictionary where the key is the punctuation and the value is the token\n",
    "    \"\"\"\n",
    "    # TODO: Implement Function\n",
    "    token_lookup = {'.' : 'Period', ',' : 'Comma','\"' : 'Quotation_Mark', ';' : 'Semicolon',\n",
    "                    '!' : 'Exclamation_Mark', '?' : 'Question_Mark', '(' : 'Left_Parentheses', \n",
    "                   ')' : 'Right_Parentheses', '--' : 'Dash', '\\n' : 'Return'}\n",
    "    return token_lookup\n",
    "\n",
    "\"\"\"\n",
    "DON'T MODIFY ANYTHING IN THIS CELL THAT IS BELOW THIS LINE\n",
    "\"\"\"\n",
    "tests.test_tokenize(token_lookup)"
   ]
  },
  {
   "cell_type": "markdown",
   "metadata": {
    "deletable": true,
    "editable": true
   },
   "source": [
    "## Preprocess all the data and save it\n",
    "Running the code cell below will preprocess all the data and save it to file."
   ]
  },
  {
   "cell_type": "code",
   "execution_count": 70,
   "metadata": {
    "collapsed": true,
    "deletable": true,
    "editable": true
   },
   "outputs": [],
   "source": [
    "\"\"\"\n",
    "DON'T MODIFY ANYTHING IN THIS CELL\n",
    "\"\"\"\n",
    "# Preprocess Training, Validation, and Testing Data\n",
    "helper.preprocess_and_save_data(data_dir, token_lookup, create_lookup_tables)"
   ]
  },
  {
   "cell_type": "markdown",
   "metadata": {
    "deletable": true,
    "editable": true
   },
   "source": [
    "# Check Point\n",
    "This is your first checkpoint. If you ever decide to come back to this notebook or have to restart the notebook, you can start from here. The preprocessed data has been saved to disk."
   ]
  },
  {
   "cell_type": "code",
   "execution_count": 2,
   "metadata": {
    "collapsed": false,
    "deletable": true,
    "editable": true
   },
   "outputs": [],
   "source": [
    "\"\"\"\n",
    "DON'T MODIFY ANYTHING IN THIS CELL\n",
    "\"\"\"\n",
    "import helper\n",
    "import numpy as np\n",
    "import problem_unittests as tests\n",
    "\n",
    "int_text, vocab_to_int, int_to_vocab, token_dict = helper.load_preprocess()"
   ]
  },
  {
   "cell_type": "markdown",
   "metadata": {
    "deletable": true,
    "editable": true
   },
   "source": [
    "## Build the Neural Network\n",
    "You'll build the components necessary to build a RNN by implementing the following functions below:\n",
    "- get_inputs\n",
    "- get_init_cell\n",
    "- get_embed\n",
    "- build_rnn\n",
    "- build_nn\n",
    "- get_batches\n",
    "\n",
    "### Check the Version of TensorFlow and Access to GPU"
   ]
  },
  {
   "cell_type": "code",
   "execution_count": 3,
   "metadata": {
    "collapsed": false
   },
   "outputs": [
    {
     "name": "stdout",
     "output_type": "stream",
     "text": [
      "TensorFlow Version: 1.0.0\n",
      "Default GPU Device: /gpu:0\n"
     ]
    }
   ],
   "source": [
    "\"\"\"\n",
    "DON'T MODIFY ANYTHING IN THIS CELL\n",
    "\"\"\"\n",
    "from distutils.version import LooseVersion\n",
    "import warnings\n",
    "import tensorflow as tf\n",
    "\n",
    "# Check TensorFlow Version\n",
    "assert LooseVersion(tf.__version__) >= LooseVersion('1.0'), 'Please use TensorFlow version 1.0 or newer'\n",
    "print('TensorFlow Version: {}'.format(tf.__version__))\n",
    "\n",
    "# Check for a GPU\n",
    "if not tf.test.gpu_device_name():\n",
    "    warnings.warn('No GPU found. Please use a GPU to train your neural network.')\n",
    "else:\n",
    "    print('Default GPU Device: {}'.format(tf.test.gpu_device_name()))"
   ]
  },
  {
   "cell_type": "markdown",
   "metadata": {},
   "source": [
    "### Input\n",
    "Implement the `get_inputs()` function to create TF Placeholders for the Neural Network.  It should create the following placeholders:\n",
    "- Input text placeholder named \"input\" using the [TF Placeholder](https://www.tensorflow.org/api_docs/python/tf/placeholder) `name` parameter.\n",
    "- Targets placeholder\n",
    "- Learning Rate placeholder\n",
    "\n",
    "Return the placeholders in the following the tuple `(Input, Targets, LearingRate)`"
   ]
  },
  {
   "cell_type": "code",
   "execution_count": 4,
   "metadata": {
    "collapsed": false,
    "deletable": true,
    "editable": true
   },
   "outputs": [
    {
     "name": "stdout",
     "output_type": "stream",
     "text": [
      "Tests Passed\n"
     ]
    }
   ],
   "source": [
    "def get_inputs():\n",
    "    \"\"\"\n",
    "    Create TF Placeholders for input, targets, and learning rate.\n",
    "    :return: Tuple (input, targets, learning rate)\n",
    "    \"\"\"\n",
    "    \n",
    "    # TODO: Implement Function\n",
    "    inputs = tf.placeholder(tf.int32, shape = (None, None), name = 'input')\n",
    "    targets = tf.placeholder(tf.int32, shape = (None, None), name = 'targets')\n",
    "    learning_rate = tf.placeholder(tf.float32, shape = (None), name = 'learning_rate')\n",
    "    #tf.placeholder(tf.float32, shape = (None, None))\n",
    "    return inputs, targets, learning_rate\n",
    "\n",
    "\n",
    "\"\"\"\n",
    "DON'T MODIFY ANYTHING IN THIS CELL THAT IS BELOW THIS LINE\n",
    "\"\"\"\n",
    "tests.test_get_inputs(get_inputs)"
   ]
  },
  {
   "cell_type": "markdown",
   "metadata": {
    "deletable": true,
    "editable": true
   },
   "source": [
    "### Build RNN Cell and Initialize\n",
    "Stack one or more [`BasicLSTMCells`](https://www.tensorflow.org/api_docs/python/tf/contrib/rnn/BasicLSTMCell) in a [`MultiRNNCell`](https://www.tensorflow.org/api_docs/python/tf/contrib/rnn/MultiRNNCell).\n",
    "- The Rnn size should be set using `rnn_size`\n",
    "- Initalize Cell State using the MultiRNNCell's [`zero_state()`](https://www.tensorflow.org/api_docs/python/tf/contrib/rnn/MultiRNNCell#zero_state) function\n",
    "    - Apply the name \"initial_state\" to the initial state using [`tf.identity()`](https://www.tensorflow.org/api_docs/python/tf/identity)\n",
    "\n",
    "Return the cell and initial state in the following tuple `(Cell, InitialState)`"
   ]
  },
  {
   "cell_type": "code",
   "execution_count": 22,
   "metadata": {
    "collapsed": false,
    "deletable": true,
    "editable": true
   },
   "outputs": [
    {
     "name": "stdout",
     "output_type": "stream",
     "text": [
      "Tests Passed\n"
     ]
    }
   ],
   "source": [
    "def get_init_cell(batch_size, rnn_size):\n",
    "    \"\"\"\n",
    "    Create an RNN Cell and initialize it.\n",
    "    :param batch_size: Size of batches\n",
    "    :param rnn_size: Size of RNNs\n",
    "    :return: Tuple (cell, initialize state)\n",
    "    \"\"\"\n",
    "    # TODO: Implement Function\n",
    "    \n",
    "    #number_of_layers = 3\n",
    "    number_of_layers = 5\n",
    "    keep_prob = 0.5\n",
    "    #LSTMcell = tf.contrib.rnn.BasicLSTMCell((rnn_size, forget_bias=1.0, batch_size=None, state_is_tuple=True, activation=tf.tanh))\n",
    "    lstm = tf.contrib.rnn.BasicLSTMCell(rnn_size)\n",
    "    \n",
    "    #dropout = tf.contrib.rnn.DropoutWrapper(lstm, output_keep_prob= keep_prob)\n",
    "    stacked_lstm = tf.contrib.rnn.MultiRNNCell([lstm] * number_of_layers)\n",
    "    initial_state = tf.identity(stacked_lstm.zero_state(batch_size, tf.float32), name = 'initial_state')\n",
    "    \n",
    "    return (stacked_lstm, initial_state)\n",
    "\n",
    "\n",
    "\"\"\"\n",
    "DON'T MODIFY ANYTHING IN THIS CELL THAT IS BELOW THIS LINE\n",
    "\"\"\"\n",
    "tests.test_get_init_cell(get_init_cell)"
   ]
  },
  {
   "cell_type": "markdown",
   "metadata": {
    "deletable": true,
    "editable": true
   },
   "source": [
    "### Word Embedding\n",
    "Apply embedding to `input_data` using TensorFlow.  Return the embedded sequence."
   ]
  },
  {
   "cell_type": "code",
   "execution_count": 23,
   "metadata": {
    "collapsed": false,
    "deletable": true,
    "editable": true
   },
   "outputs": [
    {
     "name": "stdout",
     "output_type": "stream",
     "text": [
      "Tests Passed\n"
     ]
    }
   ],
   "source": [
    "def get_embed(input_data, vocab_size, embed_dim):\n",
    "    \"\"\"\n",
    "    Create embedding for <input_data>.\n",
    "    :param input_data: TF placeholder for text input.\n",
    "    :param vocab_size: Number of words in vocabulary.\n",
    "    :param embed_dim: Number of embedding dimensions\n",
    "    :return: Embedded input.\n",
    "    \"\"\"\n",
    "    # TODO: Implement Function\n",
    "    \n",
    "    embedding = tf.Variable(tf.random_uniform((vocab_size, embed_dim), -1, 1))\n",
    "    \n",
    "    embedding_layer = tf.nn.embedding_lookup(embedding,  \n",
    "                                        \n",
    "                                             input_data)\n",
    "\n",
    "    return embedding_layer\n",
    "\n",
    "\n",
    "\"\"\"\n",
    "DON'T MODIFY ANYTHING IN THIS CELL THAT IS BELOW THIS LINE\n",
    "\"\"\"\n",
    "tests.test_get_embed(get_embed)"
   ]
  },
  {
   "cell_type": "markdown",
   "metadata": {
    "deletable": true,
    "editable": true
   },
   "source": [
    "### Build RNN\n",
    "You created a RNN Cell in the `get_init_cell()` function.  Time to use the cell to create a RNN.\n",
    "- Build the RNN using the [`tf.nn.dynamic_rnn()`](https://www.tensorflow.org/api_docs/python/tf/nn/dynamic_rnn)\n",
    " - Apply the name \"final_state\" to the final state using [`tf.identity()`](https://www.tensorflow.org/api_docs/python/tf/identity)\n",
    "\n",
    "Return the outputs and final_state state in the following tuple `(Outputs, FinalState)` "
   ]
  },
  {
   "cell_type": "code",
   "execution_count": 25,
   "metadata": {
    "collapsed": false,
    "deletable": true,
    "editable": true
   },
   "outputs": [
    {
     "name": "stdout",
     "output_type": "stream",
     "text": [
      "Tests Passed\n"
     ]
    }
   ],
   "source": [
    "def build_rnn(cell, inputs):\n",
    "    \"\"\"\n",
    "    Create a RNN using a RNN Cell\n",
    "    :param cell: RNN Cell\n",
    "    :param inputs: Input text data\n",
    "    :return: Tuple (Outputs, Final State)\n",
    "    \"\"\"\n",
    "    # TODO: Implement Function\n",
    "    \n",
    "    \"\"\"tf.nn.dynamic_rnn(cell, inputs, \n",
    "    sequence_length=None, \n",
    "    initial_state=None, \n",
    "    dtype=None, \n",
    "    parallel_iterations=None, \n",
    "    swap_memory=False, \n",
    "    time_major=False, \n",
    "    scope=None)\n",
    "    \"\"\"\n",
    "    \n",
    "    \n",
    "    Outputs, final_state = tf.nn.dynamic_rnn(cell = cell,\n",
    "                                inputs = inputs,\n",
    "                                dtype = 'float32'\n",
    "                                )\n",
    "    final_state = tf.identity(final_state, name='final_state')\n",
    "                                \n",
    "    \n",
    "    return (Outputs, final_state)\n",
    "\n",
    "\n",
    "\"\"\"\n",
    "DON'T MODIFY ANYTHING IN THIS CELL THAT IS BELOW THIS LINE\n",
    "\"\"\"\n",
    "tests.test_build_rnn(build_rnn)"
   ]
  },
  {
   "cell_type": "markdown",
   "metadata": {
    "deletable": true,
    "editable": true
   },
   "source": [
    "### Build the Neural Network\n",
    "Apply the functions you implemented above to:\n",
    "- Apply embedding to `input_data` using your `get_embed(input_data, vocab_size, embed_dim)` function.\n",
    "- Build RNN using `cell` and your `build_rnn(cell, inputs)` function.\n",
    "- Apply a fully connected layer with a linear activation and `vocab_size` as the number of outputs.\n",
    "\n",
    "Return the logits and final state in the following tuple (Logits, FinalState) "
   ]
  },
  {
   "cell_type": "code",
   "execution_count": 26,
   "metadata": {
    "collapsed": false,
    "deletable": true,
    "editable": true
   },
   "outputs": [
    {
     "name": "stdout",
     "output_type": "stream",
     "text": [
      "Tests Passed\n"
     ]
    }
   ],
   "source": [
    "def build_nn(cell, rnn_size, input_data, vocab_size):\n",
    "    \"\"\"\n",
    "    Build part of the neural network\n",
    "    :param cell: RNN cell\n",
    "    :param rnn_size: Size of rnns\n",
    "    :param input_data: Input data\n",
    "    :param vocab_size: Vocabulary size\n",
    "    :return: Tuple (Logits, FinalState)\n",
    "    \"\"\"\n",
    "    # TODO: Implement Function\n",
    "    embed = get_embed(input_data = input_data,\n",
    "                      vocab_size = vocab_size,\n",
    "                      embed_dim = rnn_size)\n",
    "    Outputs, FinalState = build_rnn(cell= cell, inputs = embed)\n",
    "    \n",
    "    Logits = tf.contrib.layers.fully_connected(Outputs, \n",
    "                                               num_outputs = vocab_size,\n",
    "                                               activation_fn = None,\n",
    "                                              weights_initializer = (tf.truncated_normal_initializer(stddev = 0.1)),\n",
    "                                              biases_initializer = (tf.zeros_initializer()))\n",
    "    return (Logits, FinalState)\n",
    "\n",
    "\n",
    "\"\"\"\n",
    "DON'T MODIFY ANYTHING IN THIS CELL THAT IS BELOW THIS LINE\n",
    "\"\"\"\n",
    "tests.test_build_nn(build_nn)"
   ]
  },
  {
   "cell_type": "markdown",
   "metadata": {
    "deletable": true,
    "editable": true
   },
   "source": [
    "### Batches\n",
    "Implement `get_batches` to create batches of input and targets using `int_text`.  The batches should be a Numpy array with the shape `(number of batches, 2, batch size, sequence length)`. Each batch contains two elements:\n",
    "- The first element is a single batch of **input** with the shape `[batch size, sequence length]`\n",
    "- The second element is a single batch of **targets** with the shape `[batch size, sequence length]`\n",
    "\n",
    "If you can't fill the last batch with enough data, drop the last batch.\n",
    "\n",
    "For exmple, `get_batches([1, 2, 3, 4, 5, 6, 7, 8, 9, 10, 11, 12, 13, 14, 15], 2, 3)` would return a Numpy array of the following:\n",
    "```\n",
    "[\n",
    "  # First Batch\n",
    "  [\n",
    "    # Batch of Input\n",
    "    [[ 1  2  3], [ 7  8  9]],\n",
    "    # Batch of targets\n",
    "    [[ 2  3  4], [ 8  9 10]]\n",
    "  ],\n",
    " \n",
    "  # Second Batch\n",
    "  [\n",
    "    # Batch of Input\n",
    "    [[ 4  5  6], [10 11 12]],\n",
    "    # Batch of targets\n",
    "    [[ 5  6  7], [11 12 13]]\n",
    "  ]\n",
    "]\n",
    "```"
   ]
  },
  {
   "cell_type": "code",
   "execution_count": 78,
   "metadata": {
    "collapsed": true
   },
   "outputs": [],
   "source": [
    "zip?"
   ]
  },
  {
   "cell_type": "code",
   "execution_count": 27,
   "metadata": {
    "collapsed": false,
    "deletable": true,
    "editable": true
   },
   "outputs": [
    {
     "name": "stdout",
     "output_type": "stream",
     "text": [
      "Tests Passed\n"
     ]
    }
   ],
   "source": [
    "def get_batches(int_text, batch_size, seq_length):\n",
    "    \"\"\"\n",
    "    Return batches of input and target\n",
    "    :param int_text: Text with the words replaced by their ids\n",
    "    :param batch_size: The size of batch\n",
    "    :param seq_length: The length of sequence\n",
    "    :return: Batches as a Numpy array\n",
    "    \"\"\"\n",
    "    # TODO: Implement Function\n",
    "\n",
    "    n_batches = int(len(int_text) / (batch_size * seq_length))\n",
    "\n",
    "    # Drop the last few characters to make only full batches\n",
    "    xdata = np.array(int_text[: n_batches * batch_size * seq_length])\n",
    "    ydata = np.array(int_text[1: n_batches * batch_size * seq_length + 1])\n",
    "\n",
    "    x_batches = np.split(xdata.reshape(batch_size, -1), n_batches, 1)\n",
    "    y_batches = np.split(ydata.reshape(batch_size, -1), n_batches, 1)\n",
    "\n",
    "    return np.asarray(list(zip(x_batches, y_batches)))\n",
    "\"\"\"\n",
    "DON'T MODIFY ANYTHING IN THIS CELL THAT IS BELOW THIS LINE\n",
    "\"\"\"\n",
    "tests.test_get_batches(get_batches)"
   ]
  },
  {
   "cell_type": "markdown",
   "metadata": {
    "deletable": true,
    "editable": true
   },
   "source": [
    "## Neural Network Training\n",
    "### Hyperparameters\n",
    "Tune the following parameters:\n",
    "\n",
    "- Set `num_epochs` to the number of epochs.\n",
    "- Set `batch_size` to the batch size.\n",
    "- Set `rnn_size` to the size of the RNNs.\n",
    "- Set `seq_length` to the length of sequence.\n",
    "- Set `learning_rate` to the learning rate.\n",
    "- Set `show_every_n_batches` to the number of batches the neural network should print progress."
   ]
  },
  {
   "cell_type": "code",
   "execution_count": 30,
   "metadata": {
    "collapsed": true,
    "deletable": true,
    "editable": true
   },
   "outputs": [],
   "source": [
    "# Number of Epochs\n",
    "num_epochs = 300\n",
    "# Batch Size\n",
    "batch_size = 128\n",
    "# RNN Size\n",
    "rnn_size = 1024\n",
    "# Sequence Length\n",
    "seq_length = 12\n",
    "# Learning Rate\n",
    "learning_rate = 0.0001\n",
    "# Show stats for every n number of batches\n",
    "show_every_n_batches = 50\n",
    "\n",
    "\n",
    "\n",
    "\"\"\"\n",
    "DON'T MODIFY ANYTHING IN THIS CELL THAT IS BELOW THIS LINE\n",
    "\"\"\"\n",
    "save_dir = './save'"
   ]
  },
  {
   "cell_type": "markdown",
   "metadata": {
    "deletable": true,
    "editable": true
   },
   "source": [
    "### Build the Graph\n",
    "Build the graph using the neural network you implemented."
   ]
  },
  {
   "cell_type": "code",
   "execution_count": 31,
   "metadata": {
    "collapsed": false,
    "deletable": true,
    "editable": true
   },
   "outputs": [],
   "source": [
    "\"\"\"\n",
    "DON'T MODIFY ANYTHING IN THIS CELL\n",
    "\"\"\"\n",
    "from tensorflow.contrib import seq2seq\n",
    "\n",
    "train_graph = tf.Graph()\n",
    "with train_graph.as_default():\n",
    "    vocab_size = len(int_to_vocab)\n",
    "    input_text, targets, lr = get_inputs()\n",
    "    input_data_shape = tf.shape(input_text)\n",
    "    cell, initial_state = get_init_cell(input_data_shape[0], rnn_size)\n",
    "    logits, final_state = build_nn(cell, rnn_size, input_text, vocab_size)\n",
    "\n",
    "    # Probabilities for generating words\n",
    "    probs = tf.nn.softmax(logits, name='probs')\n",
    "\n",
    "    # Loss function\n",
    "    cost = seq2seq.sequence_loss(\n",
    "        logits,\n",
    "        targets,\n",
    "        tf.ones([input_data_shape[0], input_data_shape[1]]))\n",
    "\n",
    "    # Optimizer\n",
    "    optimizer = tf.train.AdamOptimizer(lr)\n",
    "\n",
    "    # Gradient Clipping\n",
    "    gradients = optimizer.compute_gradients(cost)\n",
    "    capped_gradients = [(tf.clip_by_value(grad, -1., 1.), var) for grad, var in gradients]\n",
    "    train_op = optimizer.apply_gradients(capped_gradients)"
   ]
  },
  {
   "cell_type": "markdown",
   "metadata": {
    "deletable": true,
    "editable": true
   },
   "source": [
    "## Train\n",
    "Train the neural network on the preprocessed data.  If you have a hard time getting a good loss, check the [forms](https://discussions.udacity.com/) to see if anyone is having the same problem."
   ]
  },
  {
   "cell_type": "code",
   "execution_count": 32,
   "metadata": {
    "collapsed": false,
    "deletable": true,
    "editable": true
   },
   "outputs": [
    {
     "name": "stdout",
     "output_type": "stream",
     "text": [
      "Epoch   0 Batch    0/44   train_loss = 8.822\n",
      "Epoch   1 Batch    6/44   train_loss = 6.347\n",
      "Epoch   2 Batch   12/44   train_loss = 6.025\n",
      "Epoch   3 Batch   18/44   train_loss = 6.014\n",
      "Epoch   4 Batch   24/44   train_loss = 5.932\n",
      "Epoch   5 Batch   30/44   train_loss = 5.993\n",
      "Epoch   6 Batch   36/44   train_loss = 5.721\n",
      "Epoch   7 Batch   42/44   train_loss = 5.546\n",
      "Epoch   9 Batch    4/44   train_loss = 5.293\n",
      "Epoch  10 Batch   10/44   train_loss = 5.412\n",
      "Epoch  11 Batch   16/44   train_loss = 5.298\n",
      "Epoch  12 Batch   22/44   train_loss = 5.053\n",
      "Epoch  13 Batch   28/44   train_loss = 5.129\n",
      "Epoch  14 Batch   34/44   train_loss = 5.097\n",
      "Epoch  15 Batch   40/44   train_loss = 4.981\n",
      "Epoch  17 Batch    2/44   train_loss = 4.685\n",
      "Epoch  18 Batch    8/44   train_loss = 4.801\n",
      "Epoch  19 Batch   14/44   train_loss = 4.935\n",
      "Epoch  20 Batch   20/44   train_loss = 4.697\n",
      "Epoch  21 Batch   26/44   train_loss = 4.653\n",
      "Epoch  22 Batch   32/44   train_loss = 4.624\n",
      "Epoch  23 Batch   38/44   train_loss = 4.537\n",
      "Epoch  25 Batch    0/44   train_loss = 4.540\n",
      "Epoch  26 Batch    6/44   train_loss = 4.464\n",
      "Epoch  27 Batch   12/44   train_loss = 4.445\n",
      "Epoch  28 Batch   18/44   train_loss = 4.512\n",
      "Epoch  29 Batch   24/44   train_loss = 4.486\n",
      "Epoch  30 Batch   30/44   train_loss = 4.501\n",
      "Epoch  31 Batch   36/44   train_loss = 4.445\n",
      "Epoch  32 Batch   42/44   train_loss = 4.322\n",
      "Epoch  34 Batch    4/44   train_loss = 4.165\n",
      "Epoch  35 Batch   10/44   train_loss = 4.319\n",
      "Epoch  36 Batch   16/44   train_loss = 4.322\n",
      "Epoch  37 Batch   22/44   train_loss = 4.199\n",
      "Epoch  38 Batch   28/44   train_loss = 4.188\n",
      "Epoch  39 Batch   34/44   train_loss = 4.198\n",
      "Epoch  40 Batch   40/44   train_loss = 4.141\n",
      "Epoch  42 Batch    2/44   train_loss = 3.877\n",
      "Epoch  43 Batch    8/44   train_loss = 4.070\n",
      "Epoch  44 Batch   14/44   train_loss = 4.128\n",
      "Epoch  45 Batch   20/44   train_loss = 4.009\n",
      "Epoch  46 Batch   26/44   train_loss = 4.009\n",
      "Epoch  47 Batch   32/44   train_loss = 4.006\n",
      "Epoch  48 Batch   38/44   train_loss = 3.945\n",
      "Epoch  50 Batch    0/44   train_loss = 3.950\n",
      "Epoch  51 Batch    6/44   train_loss = 3.804\n",
      "Epoch  52 Batch   12/44   train_loss = 3.923\n",
      "Epoch  53 Batch   18/44   train_loss = 3.994\n",
      "Epoch  54 Batch   24/44   train_loss = 3.917\n",
      "Epoch  55 Batch   30/44   train_loss = 3.824\n",
      "Epoch  56 Batch   36/44   train_loss = 3.782\n",
      "Epoch  57 Batch   42/44   train_loss = 3.671\n",
      "Epoch  59 Batch    4/44   train_loss = 3.587\n",
      "Epoch  60 Batch   10/44   train_loss = 3.723\n",
      "Epoch  61 Batch   16/44   train_loss = 3.802\n",
      "Epoch  62 Batch   22/44   train_loss = 3.683\n",
      "Epoch  63 Batch   28/44   train_loss = 3.653\n",
      "Epoch  64 Batch   34/44   train_loss = 3.655\n",
      "Epoch  65 Batch   40/44   train_loss = 3.709\n",
      "Epoch  67 Batch    2/44   train_loss = 3.491\n",
      "Epoch  68 Batch    8/44   train_loss = 3.666\n",
      "Epoch  69 Batch   14/44   train_loss = 3.658\n",
      "Epoch  70 Batch   20/44   train_loss = 3.653\n",
      "Epoch  71 Batch   26/44   train_loss = 3.456\n",
      "Epoch  72 Batch   32/44   train_loss = 3.517\n",
      "Epoch  73 Batch   38/44   train_loss = 3.411\n",
      "Epoch  75 Batch    0/44   train_loss = 3.285\n",
      "Epoch  76 Batch    6/44   train_loss = 3.268\n",
      "Epoch  77 Batch   12/44   train_loss = 3.268\n",
      "Epoch  78 Batch   18/44   train_loss = 3.526\n",
      "Epoch  79 Batch   24/44   train_loss = 3.384\n",
      "Epoch  80 Batch   30/44   train_loss = 3.370\n",
      "Epoch  81 Batch   36/44   train_loss = 3.436\n",
      "Epoch  82 Batch   42/44   train_loss = 3.364\n",
      "Epoch  84 Batch    4/44   train_loss = 3.309\n",
      "Epoch  85 Batch   10/44   train_loss = 3.372\n",
      "Epoch  86 Batch   16/44   train_loss = 3.290\n",
      "Epoch  87 Batch   22/44   train_loss = 3.212\n",
      "Epoch  88 Batch   28/44   train_loss = 3.120\n",
      "Epoch  89 Batch   34/44   train_loss = 3.312\n",
      "Epoch  90 Batch   40/44   train_loss = 3.135\n",
      "Epoch  92 Batch    2/44   train_loss = 3.036\n",
      "Epoch  93 Batch    8/44   train_loss = 2.999\n",
      "Epoch  94 Batch   14/44   train_loss = 3.021\n",
      "Epoch  95 Batch   20/44   train_loss = 2.967\n",
      "Epoch  96 Batch   26/44   train_loss = 2.914\n",
      "Epoch  97 Batch   32/44   train_loss = 2.989\n",
      "Epoch  98 Batch   38/44   train_loss = 3.006\n",
      "Epoch 100 Batch    0/44   train_loss = 2.827\n",
      "Epoch 101 Batch    6/44   train_loss = 2.893\n",
      "Epoch 102 Batch   12/44   train_loss = 2.843\n",
      "Epoch 103 Batch   18/44   train_loss = 3.056\n",
      "Epoch 104 Batch   24/44   train_loss = 2.811\n",
      "Epoch 105 Batch   30/44   train_loss = 2.856\n",
      "Epoch 106 Batch   36/44   train_loss = 2.780\n",
      "Epoch 107 Batch   42/44   train_loss = 2.812\n",
      "Epoch 109 Batch    4/44   train_loss = 2.762\n",
      "Epoch 110 Batch   10/44   train_loss = 2.792\n",
      "Epoch 111 Batch   16/44   train_loss = 2.832\n",
      "Epoch 112 Batch   22/44   train_loss = 2.764\n",
      "Epoch 113 Batch   28/44   train_loss = 2.766\n",
      "Epoch 114 Batch   34/44   train_loss = 2.915\n",
      "Epoch 115 Batch   40/44   train_loss = 2.881\n",
      "Epoch 117 Batch    2/44   train_loss = 2.595\n",
      "Epoch 118 Batch    8/44   train_loss = 2.763\n",
      "Epoch 119 Batch   14/44   train_loss = 2.541\n",
      "Epoch 120 Batch   20/44   train_loss = 2.570\n",
      "Epoch 121 Batch   26/44   train_loss = 2.493\n",
      "Epoch 122 Batch   32/44   train_loss = 2.537\n",
      "Epoch 123 Batch   38/44   train_loss = 2.514\n",
      "Epoch 125 Batch    0/44   train_loss = 2.403\n",
      "Epoch 126 Batch    6/44   train_loss = 2.349\n",
      "Epoch 127 Batch   12/44   train_loss = 2.357\n",
      "Epoch 128 Batch   18/44   train_loss = 2.355\n",
      "Epoch 129 Batch   24/44   train_loss = 2.265\n",
      "Epoch 130 Batch   30/44   train_loss = 2.163\n",
      "Epoch 131 Batch   36/44   train_loss = 2.181\n",
      "Epoch 132 Batch   42/44   train_loss = 2.148\n",
      "Epoch 134 Batch    4/44   train_loss = 2.121\n",
      "Epoch 135 Batch   10/44   train_loss = 2.106\n",
      "Epoch 136 Batch   16/44   train_loss = 2.109\n",
      "Epoch 137 Batch   22/44   train_loss = 2.051\n",
      "Epoch 138 Batch   28/44   train_loss = 2.022\n",
      "Epoch 139 Batch   34/44   train_loss = 2.077\n",
      "Epoch 140 Batch   40/44   train_loss = 2.113\n",
      "Epoch 142 Batch    2/44   train_loss = 2.079\n",
      "Epoch 143 Batch    8/44   train_loss = 2.057\n",
      "Epoch 144 Batch   14/44   train_loss = 2.026\n",
      "Epoch 145 Batch   20/44   train_loss = 2.006\n",
      "Epoch 146 Batch   26/44   train_loss = 1.894\n",
      "Epoch 147 Batch   32/44   train_loss = 2.031\n",
      "Epoch 148 Batch   38/44   train_loss = 1.984\n",
      "Epoch 150 Batch    0/44   train_loss = 1.853\n",
      "Epoch 151 Batch    6/44   train_loss = 1.901\n",
      "Epoch 152 Batch   12/44   train_loss = 1.922\n",
      "Epoch 153 Batch   18/44   train_loss = 1.909\n",
      "Epoch 154 Batch   24/44   train_loss = 1.822\n",
      "Epoch 155 Batch   30/44   train_loss = 1.768\n",
      "Epoch 156 Batch   36/44   train_loss = 1.862\n",
      "Epoch 157 Batch   42/44   train_loss = 1.821\n",
      "Epoch 159 Batch    4/44   train_loss = 1.859\n",
      "Epoch 160 Batch   10/44   train_loss = 1.986\n",
      "Epoch 161 Batch   16/44   train_loss = 1.935\n",
      "Epoch 162 Batch   22/44   train_loss = 1.923\n",
      "Epoch 163 Batch   28/44   train_loss = 1.835\n",
      "Epoch 164 Batch   34/44   train_loss = 1.831\n",
      "Epoch 165 Batch   40/44   train_loss = 1.742\n",
      "Epoch 167 Batch    2/44   train_loss = 1.671\n",
      "Epoch 168 Batch    8/44   train_loss = 1.595\n",
      "Epoch 169 Batch   14/44   train_loss = 1.680\n",
      "Epoch 170 Batch   20/44   train_loss = 1.685\n",
      "Epoch 171 Batch   26/44   train_loss = 1.554\n",
      "Epoch 172 Batch   32/44   train_loss = 1.820\n",
      "Epoch 173 Batch   38/44   train_loss = 1.573\n",
      "Epoch 175 Batch    0/44   train_loss = 1.614\n",
      "Epoch 176 Batch    6/44   train_loss = 1.619\n",
      "Epoch 177 Batch   12/44   train_loss = 1.534\n",
      "Epoch 178 Batch   18/44   train_loss = 1.466\n",
      "Epoch 179 Batch   24/44   train_loss = 1.383\n",
      "Epoch 180 Batch   30/44   train_loss = 1.295\n",
      "Epoch 181 Batch   36/44   train_loss = 1.374\n",
      "Epoch 182 Batch   42/44   train_loss = 1.294\n",
      "Epoch 184 Batch    4/44   train_loss = 1.302\n",
      "Epoch 185 Batch   10/44   train_loss = 1.289\n",
      "Epoch 186 Batch   16/44   train_loss = 1.301\n",
      "Epoch 187 Batch   22/44   train_loss = 1.247\n",
      "Epoch 188 Batch   28/44   train_loss = 1.221\n",
      "Epoch 189 Batch   34/44   train_loss = 1.255\n",
      "Epoch 190 Batch   40/44   train_loss = 1.233\n",
      "Epoch 192 Batch    2/44   train_loss = 1.191\n",
      "Epoch 193 Batch    8/44   train_loss = 1.171\n",
      "Epoch 194 Batch   14/44   train_loss = 1.317\n",
      "Epoch 195 Batch   20/44   train_loss = 1.286\n",
      "Epoch 196 Batch   26/44   train_loss = 1.185\n",
      "Epoch 197 Batch   32/44   train_loss = 1.320\n",
      "Epoch 198 Batch   38/44   train_loss = 1.202\n",
      "Epoch 200 Batch    0/44   train_loss = 1.174\n",
      "Epoch 201 Batch    6/44   train_loss = 1.186\n",
      "Epoch 202 Batch   12/44   train_loss = 1.224\n",
      "Epoch 203 Batch   18/44   train_loss = 1.302\n",
      "Epoch 204 Batch   24/44   train_loss = 1.210\n",
      "Epoch 205 Batch   30/44   train_loss = 1.101\n",
      "Epoch 206 Batch   36/44   train_loss = 1.171\n",
      "Epoch 207 Batch   42/44   train_loss = 1.061\n",
      "Epoch 209 Batch    4/44   train_loss = 0.995\n",
      "Epoch 210 Batch   10/44   train_loss = 0.983\n",
      "Epoch 211 Batch   16/44   train_loss = 1.011\n",
      "Epoch 212 Batch   22/44   train_loss = 0.980\n",
      "Epoch 213 Batch   28/44   train_loss = 0.920\n",
      "Epoch 214 Batch   34/44   train_loss = 0.918\n",
      "Epoch 215 Batch   40/44   train_loss = 0.913\n",
      "Epoch 217 Batch    2/44   train_loss = 0.911\n",
      "Epoch 218 Batch    8/44   train_loss = 0.812\n",
      "Epoch 219 Batch   14/44   train_loss = 0.860\n",
      "Epoch 220 Batch   20/44   train_loss = 0.862\n",
      "Epoch 221 Batch   26/44   train_loss = 0.813\n",
      "Epoch 222 Batch   32/44   train_loss = 0.888\n",
      "Epoch 223 Batch   38/44   train_loss = 0.846\n",
      "Epoch 225 Batch    0/44   train_loss = 0.781\n",
      "Epoch 226 Batch    6/44   train_loss = 0.760\n",
      "Epoch 227 Batch   12/44   train_loss = 0.882\n",
      "Epoch 228 Batch   18/44   train_loss = 0.819\n",
      "Epoch 229 Batch   24/44   train_loss = 0.794\n",
      "Epoch 230 Batch   30/44   train_loss = 0.797\n",
      "Epoch 231 Batch   36/44   train_loss = 0.824\n",
      "Epoch 232 Batch   42/44   train_loss = 0.783\n",
      "Epoch 234 Batch    4/44   train_loss = 0.844\n",
      "Epoch 235 Batch   10/44   train_loss = 0.853\n",
      "Epoch 236 Batch   16/44   train_loss = 0.837\n",
      "Epoch 237 Batch   22/44   train_loss = 0.808\n",
      "Epoch 238 Batch   28/44   train_loss = 0.865\n",
      "Epoch 239 Batch   34/44   train_loss = 0.832\n",
      "Epoch 240 Batch   40/44   train_loss = 0.811\n",
      "Epoch 242 Batch    2/44   train_loss = 0.831\n",
      "Epoch 243 Batch    8/44   train_loss = 0.718\n",
      "Epoch 244 Batch   14/44   train_loss = 0.752\n",
      "Epoch 245 Batch   20/44   train_loss = 0.807\n",
      "Epoch 246 Batch   26/44   train_loss = 0.781\n",
      "Epoch 247 Batch   32/44   train_loss = 0.766\n",
      "Epoch 248 Batch   38/44   train_loss = 0.707\n",
      "Epoch 250 Batch    0/44   train_loss = 0.654\n",
      "Epoch 251 Batch    6/44   train_loss = 0.624\n",
      "Epoch 252 Batch   12/44   train_loss = 0.679\n",
      "Epoch 253 Batch   18/44   train_loss = 0.650\n",
      "Epoch 254 Batch   24/44   train_loss = 0.610\n",
      "Epoch 255 Batch   30/44   train_loss = 0.602\n",
      "Epoch 256 Batch   36/44   train_loss = 0.626\n",
      "Epoch 257 Batch   42/44   train_loss = 0.588\n",
      "Epoch 259 Batch    4/44   train_loss = 0.593\n",
      "Epoch 260 Batch   10/44   train_loss = 0.611\n",
      "Epoch 261 Batch   16/44   train_loss = 0.606\n",
      "Epoch 262 Batch   22/44   train_loss = 0.598\n",
      "Epoch 263 Batch   28/44   train_loss = 0.589\n",
      "Epoch 264 Batch   34/44   train_loss = 0.616\n",
      "Epoch 265 Batch   40/44   train_loss = 0.601\n",
      "Epoch 267 Batch    2/44   train_loss = 0.592\n",
      "Epoch 268 Batch    8/44   train_loss = 0.542\n",
      "Epoch 269 Batch   14/44   train_loss = 0.621\n",
      "Epoch 270 Batch   20/44   train_loss = 0.565\n",
      "Epoch 271 Batch   26/44   train_loss = 0.567\n",
      "Epoch 272 Batch   32/44   train_loss = 0.634\n",
      "Epoch 273 Batch   38/44   train_loss = 0.669\n",
      "Epoch 275 Batch    0/44   train_loss = 0.551\n",
      "Epoch 276 Batch    6/44   train_loss = 0.535\n",
      "Epoch 277 Batch   12/44   train_loss = 0.677\n",
      "Epoch 278 Batch   18/44   train_loss = 0.677\n",
      "Epoch 279 Batch   24/44   train_loss = 0.562\n",
      "Epoch 280 Batch   30/44   train_loss = 0.558\n",
      "Epoch 281 Batch   36/44   train_loss = 0.660\n",
      "Epoch 282 Batch   42/44   train_loss = 0.639\n",
      "Epoch 284 Batch    4/44   train_loss = 0.528\n",
      "Epoch 285 Batch   10/44   train_loss = 0.584\n",
      "Epoch 286 Batch   16/44   train_loss = 0.682\n",
      "Epoch 287 Batch   22/44   train_loss = 0.696\n",
      "Epoch 288 Batch   28/44   train_loss = 0.615\n",
      "Epoch 289 Batch   34/44   train_loss = 0.548\n",
      "Epoch 290 Batch   40/44   train_loss = 0.634\n",
      "Epoch 292 Batch    2/44   train_loss = 0.675\n",
      "Epoch 293 Batch    8/44   train_loss = 0.504\n",
      "Epoch 294 Batch   14/44   train_loss = 0.511\n",
      "Epoch 295 Batch   20/44   train_loss = 0.507\n",
      "Epoch 296 Batch   26/44   train_loss = 0.581\n",
      "Epoch 297 Batch   32/44   train_loss = 0.570\n",
      "Epoch 298 Batch   38/44   train_loss = 0.504\n",
      "Model Trained and Saved\n"
     ]
    }
   ],
   "source": [
    "\"\"\"\n",
    "DON'T MODIFY ANYTHING IN THIS CELL\n",
    "\"\"\"\n",
    "batches = get_batches(int_text, batch_size, seq_length)\n",
    "\n",
    "with tf.Session(graph=train_graph) as sess:\n",
    "    sess.run(tf.global_variables_initializer())\n",
    "\n",
    "    for epoch_i in range(num_epochs):\n",
    "        state = sess.run(initial_state, {input_text: batches[0][0]})\n",
    "\n",
    "        for batch_i, (x, y) in enumerate(batches):\n",
    "            feed = {\n",
    "                input_text: x,\n",
    "                targets: y,\n",
    "                initial_state: state,\n",
    "                lr: learning_rate}\n",
    "            train_loss, state, _ = sess.run([cost, final_state, train_op], feed)\n",
    "\n",
    "            # Show every <show_every_n_batches> batches\n",
    "            if (epoch_i * len(batches) + batch_i) % show_every_n_batches == 0:\n",
    "                print('Epoch {:>3} Batch {:>4}/{}   train_loss = {:.3f}'.format(\n",
    "                    epoch_i,\n",
    "                    batch_i,\n",
    "                    len(batches),\n",
    "                    train_loss))\n",
    "\n",
    "    # Save Model\n",
    "    saver = tf.train.Saver()\n",
    "    saver.save(sess, save_dir)\n",
    "    print('Model Trained and Saved')"
   ]
  },
  {
   "cell_type": "markdown",
   "metadata": {
    "deletable": true,
    "editable": true
   },
   "source": [
    "## Save Parameters\n",
    "Save `seq_length` and `save_dir` for generating a new TV script."
   ]
  },
  {
   "cell_type": "code",
   "execution_count": 33,
   "metadata": {
    "collapsed": false,
    "deletable": true,
    "editable": true
   },
   "outputs": [],
   "source": [
    "\"\"\"\n",
    "DON'T MODIFY ANYTHING IN THIS CELL\n",
    "\"\"\"\n",
    "# Save parameters for checkpoint\n",
    "helper.save_params((seq_length, save_dir))"
   ]
  },
  {
   "cell_type": "markdown",
   "metadata": {
    "deletable": true,
    "editable": true
   },
   "source": [
    "# Checkpoint"
   ]
  },
  {
   "cell_type": "code",
   "execution_count": 34,
   "metadata": {
    "collapsed": false,
    "deletable": true,
    "editable": true
   },
   "outputs": [],
   "source": [
    "\"\"\"\n",
    "DON'T MODIFY ANYTHING IN THIS CELL\n",
    "\"\"\"\n",
    "import tensorflow as tf\n",
    "import numpy as np\n",
    "import helper\n",
    "import problem_unittests as tests\n",
    "\n",
    "_, vocab_to_int, int_to_vocab, token_dict = helper.load_preprocess()\n",
    "seq_length, load_dir = helper.load_params()"
   ]
  },
  {
   "cell_type": "markdown",
   "metadata": {
    "deletable": true,
    "editable": true
   },
   "source": [
    "## Implement Generate Functions\n",
    "### Get Tensors\n",
    "Get tensors from `loaded_graph` using the function [`get_tensor_by_name()`](https://www.tensorflow.org/api_docs/python/tf/Graph#get_tensor_by_name).  Get the tensors using the following names:\n",
    "- \"input:0\"\n",
    "- \"initial_state:0\"\n",
    "- \"final_state:0\"\n",
    "- \"probs:0\"\n",
    "\n",
    "Return the tensors in the following tuple `(InputTensor, InitialStateTensor, FinalStateTensor, ProbsTensor)` "
   ]
  },
  {
   "cell_type": "code",
   "execution_count": 35,
   "metadata": {
    "collapsed": false,
    "deletable": true,
    "editable": true
   },
   "outputs": [
    {
     "name": "stdout",
     "output_type": "stream",
     "text": [
      "Tests Passed\n"
     ]
    }
   ],
   "source": [
    "def get_tensors(loaded_graph):\n",
    "    \"\"\"\n",
    "    Get input, initial state, final state, and probabilities tensor from <loaded_graph>\n",
    "    :param loaded_graph: TensorFlow graph loaded from file\n",
    "    :return: Tuple (InputTensor, InitialStateTensor, FinalStateTensor, ProbsTensor)\n",
    "    \"\"\"\n",
    "    # TODO: Implement Function\n",
    "    InputTensor = loaded_graph.get_tensor_by_name('input:0')\n",
    "    InitialStateTensor = loaded_graph.get_tensor_by_name('initial_state:0')\n",
    "    FinalStateTensor = loaded_graph.get_tensor_by_name('final_state:0')\n",
    "    ProbsTensor = loaded_graph.get_tensor_by_name('probs:0')\n",
    "    \n",
    "    return InputTensor, InitialStateTensor, FinalStateTensor, ProbsTensor\n",
    "\n",
    "\n",
    "\"\"\"\n",
    "DON'T MODIFY ANYTHING IN THIS CELL THAT IS BELOW THIS LINE\n",
    "\"\"\"\n",
    "tests.test_get_tensors(get_tensors)"
   ]
  },
  {
   "cell_type": "markdown",
   "metadata": {
    "deletable": true,
    "editable": true
   },
   "source": [
    "### Choose Word\n",
    "Implement the `pick_word()` function to select the next word using `probabilities`."
   ]
  },
  {
   "cell_type": "code",
   "execution_count": 108,
   "metadata": {
    "collapsed": true
   },
   "outputs": [],
   "source": [
    "np.random.choice?"
   ]
  },
  {
   "cell_type": "code",
   "execution_count": 36,
   "metadata": {
    "collapsed": false,
    "deletable": true,
    "editable": true
   },
   "outputs": [
    {
     "name": "stdout",
     "output_type": "stream",
     "text": [
      "Tests Passed\n"
     ]
    }
   ],
   "source": [
    "def pick_word(probabilities, int_to_vocab):\n",
    "    \"\"\"\n",
    "    Pick the next word in the generated text\n",
    "    :param probabilities: Probabilites of the next word\n",
    "    :param int_to_vocab: Dictionary of word ids as the keys and words as the values\n",
    "    :return: String of the predicted word\n",
    "    \"\"\"\n",
    "    # TODO: Implement Function\n",
    "    #word = np.random.choice(\n",
    "    \n",
    "    a = np.random.choice(a = np.arange(len(int_to_vocab)),size = 1,p = probabilities)\n",
    "    val = a[0]\n",
    "    word = int_to_vocab[val]\n",
    "    return word\n",
    "\n",
    "\n",
    "\"\"\"\n",
    "DON'T MODIFY ANYTHING IN THIS CELL THAT IS BELOW THIS LINE\n",
    "\"\"\"\n",
    "tests.test_pick_word(pick_word)"
   ]
  },
  {
   "cell_type": "markdown",
   "metadata": {
    "deletable": true,
    "editable": true
   },
   "source": [
    "## Generate TV Script\n",
    "This will generate the TV script for you.  Set `gen_length` to the length of TV script you want to generate."
   ]
  },
  {
   "cell_type": "code",
   "execution_count": 38,
   "metadata": {
    "collapsed": false,
    "deletable": true,
    "editable": true,
    "scrolled": true
   },
   "outputs": [
    {
     "ename": "KeyboardInterrupt",
     "evalue": "",
     "output_type": "error",
     "traceback": [
      "\u001b[0;31m---------------------------------------------------------------------------\u001b[0m",
      "\u001b[0;31mKeyboardInterrupt\u001b[0m                         Traceback (most recent call last)",
      "\u001b[0;32m<ipython-input-38-0a99e3bc19c5>\u001b[0m in \u001b[0;36m<module>\u001b[0;34m()\u001b[0m\n\u001b[1;32m      9\u001b[0m \u001b[0;32mwith\u001b[0m \u001b[0mtf\u001b[0m\u001b[0;34m.\u001b[0m\u001b[0mSession\u001b[0m\u001b[0;34m(\u001b[0m\u001b[0mgraph\u001b[0m\u001b[0;34m=\u001b[0m\u001b[0mloaded_graph\u001b[0m\u001b[0;34m)\u001b[0m \u001b[0;32mas\u001b[0m \u001b[0msess\u001b[0m\u001b[0;34m:\u001b[0m\u001b[0;34m\u001b[0m\u001b[0m\n\u001b[1;32m     10\u001b[0m     \u001b[0;31m# Load saved model\u001b[0m\u001b[0;34m\u001b[0m\u001b[0;34m\u001b[0m\u001b[0m\n\u001b[0;32m---> 11\u001b[0;31m     \u001b[0mloader\u001b[0m \u001b[0;34m=\u001b[0m \u001b[0mtf\u001b[0m\u001b[0;34m.\u001b[0m\u001b[0mtrain\u001b[0m\u001b[0;34m.\u001b[0m\u001b[0mimport_meta_graph\u001b[0m\u001b[0;34m(\u001b[0m\u001b[0mload_dir\u001b[0m \u001b[0;34m+\u001b[0m \u001b[0;34m'.meta'\u001b[0m\u001b[0;34m)\u001b[0m\u001b[0;34m\u001b[0m\u001b[0m\n\u001b[0m\u001b[1;32m     12\u001b[0m     \u001b[0mloader\u001b[0m\u001b[0;34m.\u001b[0m\u001b[0mrestore\u001b[0m\u001b[0;34m(\u001b[0m\u001b[0msess\u001b[0m\u001b[0;34m,\u001b[0m \u001b[0mload_dir\u001b[0m\u001b[0;34m)\u001b[0m\u001b[0;34m\u001b[0m\u001b[0m\n\u001b[1;32m     13\u001b[0m \u001b[0;34m\u001b[0m\u001b[0m\n",
      "\u001b[0;32m/home/tim/anaconda3/lib/python3.5/site-packages/tensorflow/python/training/saver.py\u001b[0m in \u001b[0;36mimport_meta_graph\u001b[0;34m(meta_graph_or_file, clear_devices, import_scope, **kwargs)\u001b[0m\n\u001b[1;32m   1575\u001b[0m                                       \u001b[0mclear_devices\u001b[0m\u001b[0;34m=\u001b[0m\u001b[0mclear_devices\u001b[0m\u001b[0;34m,\u001b[0m\u001b[0;34m\u001b[0m\u001b[0m\n\u001b[1;32m   1576\u001b[0m                                       \u001b[0mimport_scope\u001b[0m\u001b[0;34m=\u001b[0m\u001b[0mimport_scope\u001b[0m\u001b[0;34m,\u001b[0m\u001b[0;34m\u001b[0m\u001b[0m\n\u001b[0;32m-> 1577\u001b[0;31m                                       **kwargs)\n\u001b[0m\u001b[1;32m   1578\u001b[0m   \u001b[0;32mif\u001b[0m \u001b[0mmeta_graph_def\u001b[0m\u001b[0;34m.\u001b[0m\u001b[0mHasField\u001b[0m\u001b[0;34m(\u001b[0m\u001b[0;34m\"saver_def\"\u001b[0m\u001b[0;34m)\u001b[0m\u001b[0;34m:\u001b[0m\u001b[0;34m\u001b[0m\u001b[0m\n\u001b[1;32m   1579\u001b[0m     \u001b[0;32mreturn\u001b[0m \u001b[0mSaver\u001b[0m\u001b[0;34m(\u001b[0m\u001b[0msaver_def\u001b[0m\u001b[0;34m=\u001b[0m\u001b[0mmeta_graph_def\u001b[0m\u001b[0;34m.\u001b[0m\u001b[0msaver_def\u001b[0m\u001b[0;34m,\u001b[0m \u001b[0mname\u001b[0m\u001b[0;34m=\u001b[0m\u001b[0mimport_scope\u001b[0m\u001b[0;34m)\u001b[0m\u001b[0;34m\u001b[0m\u001b[0m\n",
      "\u001b[0;32m/home/tim/anaconda3/lib/python3.5/site-packages/tensorflow/python/framework/meta_graph.py\u001b[0m in \u001b[0;36mimport_scoped_meta_graph\u001b[0;34m(meta_graph_or_file, clear_devices, graph, import_scope, input_map, unbound_inputs_col_name)\u001b[0m\n\u001b[1;32m    496\u001b[0m     importer.import_graph_def(\n\u001b[1;32m    497\u001b[0m         \u001b[0minput_graph_def\u001b[0m\u001b[0;34m,\u001b[0m \u001b[0mname\u001b[0m\u001b[0;34m=\u001b[0m\u001b[0;34m(\u001b[0m\u001b[0mimport_scope\u001b[0m \u001b[0;32mor\u001b[0m \u001b[0;34m\"\"\u001b[0m\u001b[0;34m)\u001b[0m\u001b[0;34m,\u001b[0m \u001b[0minput_map\u001b[0m\u001b[0;34m=\u001b[0m\u001b[0minput_map\u001b[0m\u001b[0;34m,\u001b[0m\u001b[0;34m\u001b[0m\u001b[0m\n\u001b[0;32m--> 498\u001b[0;31m         producer_op_list=producer_op_list)\n\u001b[0m\u001b[1;32m    499\u001b[0m \u001b[0;34m\u001b[0m\u001b[0m\n\u001b[1;32m    500\u001b[0m     \u001b[0;31m# Restores all the other collections.\u001b[0m\u001b[0;34m\u001b[0m\u001b[0;34m\u001b[0m\u001b[0m\n",
      "\u001b[0;32m/home/tim/anaconda3/lib/python3.5/site-packages/tensorflow/python/framework/importer.py\u001b[0m in \u001b[0;36mimport_graph_def\u001b[0;34m(graph_def, input_map, return_elements, name, op_dict, producer_op_list)\u001b[0m\n\u001b[1;32m    285\u001b[0m           \u001b[0mnode\u001b[0m\u001b[0;34m.\u001b[0m\u001b[0mop\u001b[0m\u001b[0;34m,\u001b[0m \u001b[0;34m[\u001b[0m\u001b[0;34m]\u001b[0m\u001b[0;34m,\u001b[0m \u001b[0moutput_types\u001b[0m\u001b[0;34m,\u001b[0m \u001b[0mname\u001b[0m\u001b[0;34m=\u001b[0m\u001b[0mnode\u001b[0m\u001b[0;34m.\u001b[0m\u001b[0mname\u001b[0m\u001b[0;34m,\u001b[0m \u001b[0mattrs\u001b[0m\u001b[0;34m=\u001b[0m\u001b[0mnode\u001b[0m\u001b[0;34m.\u001b[0m\u001b[0mattr\u001b[0m\u001b[0;34m,\u001b[0m\u001b[0;34m\u001b[0m\u001b[0m\n\u001b[1;32m    286\u001b[0m           \u001b[0mcompute_shapes\u001b[0m\u001b[0;34m=\u001b[0m\u001b[0;32mFalse\u001b[0m\u001b[0;34m,\u001b[0m \u001b[0mcompute_device\u001b[0m\u001b[0;34m=\u001b[0m\u001b[0;32mFalse\u001b[0m\u001b[0;34m,\u001b[0m\u001b[0;34m\u001b[0m\u001b[0m\n\u001b[0;32m--> 287\u001b[0;31m           op_def=op_def)\n\u001b[0m\u001b[1;32m    288\u001b[0m \u001b[0;34m\u001b[0m\u001b[0m\n\u001b[1;32m    289\u001b[0m     \u001b[0;31m# 2. Add inputs to the operations.\u001b[0m\u001b[0;34m\u001b[0m\u001b[0;34m\u001b[0m\u001b[0m\n",
      "\u001b[0;32m/home/tim/anaconda3/lib/python3.5/site-packages/tensorflow/python/framework/ops.py\u001b[0m in \u001b[0;36mcreate_op\u001b[0;34m(self, op_type, inputs, dtypes, input_types, name, attrs, op_def, compute_shapes, compute_device)\u001b[0m\n\u001b[1;32m   2393\u001b[0m     ret = Operation(node_def, self, inputs=inputs, output_types=dtypes,\n\u001b[1;32m   2394\u001b[0m                     \u001b[0mcontrol_inputs\u001b[0m\u001b[0;34m=\u001b[0m\u001b[0mcontrol_inputs\u001b[0m\u001b[0;34m,\u001b[0m \u001b[0minput_types\u001b[0m\u001b[0;34m=\u001b[0m\u001b[0minput_types\u001b[0m\u001b[0;34m,\u001b[0m\u001b[0;34m\u001b[0m\u001b[0m\n\u001b[0;32m-> 2395\u001b[0;31m                     original_op=self._default_original_op, op_def=op_def)\n\u001b[0m\u001b[1;32m   2396\u001b[0m     \u001b[0;32mif\u001b[0m \u001b[0mcompute_shapes\u001b[0m\u001b[0;34m:\u001b[0m\u001b[0;34m\u001b[0m\u001b[0m\n\u001b[1;32m   2397\u001b[0m       \u001b[0mset_shapes_for_outputs\u001b[0m\u001b[0;34m(\u001b[0m\u001b[0mret\u001b[0m\u001b[0;34m)\u001b[0m\u001b[0;34m\u001b[0m\u001b[0m\n",
      "\u001b[0;32m/home/tim/anaconda3/lib/python3.5/site-packages/tensorflow/python/framework/ops.py\u001b[0m in \u001b[0;36m__init__\u001b[0;34m(self, node_def, g, inputs, output_types, control_inputs, input_types, original_op, op_def)\u001b[0m\n\u001b[1;32m   1273\u001b[0m     \u001b[0;31m# created.\u001b[0m\u001b[0;34m\u001b[0m\u001b[0;34m\u001b[0m\u001b[0m\n\u001b[1;32m   1274\u001b[0m     \u001b[0mself\u001b[0m\u001b[0;34m.\u001b[0m\u001b[0m_id_value\u001b[0m \u001b[0;34m=\u001b[0m \u001b[0mself\u001b[0m\u001b[0;34m.\u001b[0m\u001b[0m_graph\u001b[0m\u001b[0;34m.\u001b[0m\u001b[0m_next_id\u001b[0m\u001b[0;34m(\u001b[0m\u001b[0;34m)\u001b[0m  \u001b[0;31m# pylint: disable=protected-access\u001b[0m\u001b[0;34m\u001b[0m\u001b[0m\n\u001b[0;32m-> 1275\u001b[0;31m     \u001b[0mself\u001b[0m\u001b[0;34m.\u001b[0m\u001b[0m_recompute_node_def\u001b[0m\u001b[0;34m(\u001b[0m\u001b[0;34m)\u001b[0m\u001b[0;34m\u001b[0m\u001b[0m\n\u001b[0m\u001b[1;32m   1276\u001b[0m \u001b[0;34m\u001b[0m\u001b[0m\n\u001b[1;32m   1277\u001b[0m   \u001b[0;32mdef\u001b[0m \u001b[0mcolocation_groups\u001b[0m\u001b[0;34m(\u001b[0m\u001b[0mself\u001b[0m\u001b[0;34m)\u001b[0m\u001b[0;34m:\u001b[0m\u001b[0;34m\u001b[0m\u001b[0m\n",
      "\u001b[0;32m/home/tim/anaconda3/lib/python3.5/site-packages/tensorflow/python/framework/ops.py\u001b[0m in \u001b[0;36m_recompute_node_def\u001b[0;34m(self)\u001b[0m\n\u001b[1;32m   1436\u001b[0m   \u001b[0;31m# Methods below are used when building the NodeDef and Graph proto.\u001b[0m\u001b[0;34m\u001b[0m\u001b[0;34m\u001b[0m\u001b[0m\n\u001b[1;32m   1437\u001b[0m   \u001b[0;32mdef\u001b[0m \u001b[0m_recompute_node_def\u001b[0m\u001b[0;34m(\u001b[0m\u001b[0mself\u001b[0m\u001b[0;34m)\u001b[0m\u001b[0;34m:\u001b[0m\u001b[0;34m\u001b[0m\u001b[0m\n\u001b[0;32m-> 1438\u001b[0;31m     \u001b[0;32mdel\u001b[0m \u001b[0mself\u001b[0m\u001b[0;34m.\u001b[0m\u001b[0m_node_def\u001b[0m\u001b[0;34m.\u001b[0m\u001b[0minput\u001b[0m\u001b[0;34m[\u001b[0m\u001b[0;34m:\u001b[0m\u001b[0;34m]\u001b[0m\u001b[0;34m\u001b[0m\u001b[0m\n\u001b[0m\u001b[1;32m   1439\u001b[0m     \u001b[0mself\u001b[0m\u001b[0;34m.\u001b[0m\u001b[0m_node_def\u001b[0m\u001b[0;34m.\u001b[0m\u001b[0minput\u001b[0m\u001b[0;34m.\u001b[0m\u001b[0mextend\u001b[0m\u001b[0;34m(\u001b[0m\u001b[0;34m[\u001b[0m\u001b[0mt\u001b[0m\u001b[0;34m.\u001b[0m\u001b[0m_as_node_def_input\u001b[0m\u001b[0;34m(\u001b[0m\u001b[0;34m)\u001b[0m \u001b[0;32mfor\u001b[0m \u001b[0mt\u001b[0m \u001b[0;32min\u001b[0m \u001b[0mself\u001b[0m\u001b[0;34m.\u001b[0m\u001b[0m_inputs\u001b[0m\u001b[0;34m]\u001b[0m\u001b[0;34m)\u001b[0m\u001b[0;34m\u001b[0m\u001b[0m\n\u001b[1;32m   1440\u001b[0m     \u001b[0;32mif\u001b[0m \u001b[0mself\u001b[0m\u001b[0;34m.\u001b[0m\u001b[0m_control_inputs\u001b[0m\u001b[0;34m:\u001b[0m\u001b[0;34m\u001b[0m\u001b[0m\n",
      "\u001b[0;31mKeyboardInterrupt\u001b[0m: "
     ]
    }
   ],
   "source": [
    "gen_length = 400\n",
    "# homer_simpson, moe_szyslak, or Barney_Gumble\n",
    "prime_word = 'moe_szyslak'\n",
    "\n",
    "\"\"\"\n",
    "DON'T MODIFY ANYTHING IN THIS CELL THAT IS BELOW THIS LINE\n",
    "\"\"\"\n",
    "loaded_graph = tf.Graph()\n",
    "with tf.Session(graph=loaded_graph) as sess:\n",
    "    # Load saved model\n",
    "    loader = tf.train.import_meta_graph(load_dir + '.meta')\n",
    "    loader.restore(sess, load_dir)\n",
    "\n",
    "    # Get Tensors from loaded model\n",
    "    input_text, initial_state, final_state, probs = get_tensors(loaded_graph)\n",
    "\n",
    "    # Sentences generation setup\n",
    "    gen_sentences = [prime_word + ':']\n",
    "    prev_state = sess.run(initial_state, {input_text: np.array([[1]])})\n",
    "\n",
    "    # Generate sentences\n",
    "    for n in range(gen_length):\n",
    "        # Dynamic Input\n",
    "        dyn_input = [[vocab_to_int[word] for word in gen_sentences[-seq_length:]]]\n",
    "        dyn_seq_length = len(dyn_input[0])\n",
    "\n",
    "        # Get Prediction\n",
    "        probabilities, prev_state = sess.run(\n",
    "            [probs, final_state],\n",
    "            {input_text: dyn_input, initial_state: prev_state})\n",
    "        \n",
    "        pred_word = pick_word(probabilities[dyn_seq_length-1], int_to_vocab)\n",
    "\n",
    "        gen_sentences.append(pred_word)\n",
    "    \n",
    "    # Remove tokens\n",
    "    tv_script = ' '.join(gen_sentences)\n",
    "    for key, token in token_dict.items():\n",
    "        ending = ' ' if key in ['\\n', '(', '\"'] else ''\n",
    "        tv_script = tv_script.replace(' ' + token.lower(), key)\n",
    "    tv_script = tv_script.replace('\\n ', '\\n')\n",
    "    tv_script = tv_script.replace('( ', '(')\n",
    "        \n",
    "    print(tv_script)"
   ]
  },
  {
   "cell_type": "markdown",
   "metadata": {
    "deletable": true,
    "editable": true
   },
   "source": [
    "# The TV Script is Nonsensical\n",
    "It's ok if the TV script doesn't make any sense.  We trained on less than a megabyte of text.  In order to get good results, you'll have to use a smaller vocabulary or get more data.  Luckly there's more data!  As we mentioned in the begging of this project, this is a subset of [another dataset](https://www.kaggle.com/wcukierski/the-simpsons-by-the-data).  We didn't have you train on all the data, because that would take too long.  However, you are free to train your neural network on all the data.  After you complete the project, of course.\n",
    "# Submitting This Project\n",
    "When submitting this project, make sure to run all the cells before saving the notebook. Save the notebook file as \"dlnd_tv_script_generation.ipynb\" and save it as a HTML file under \"File\" -> \"Download as\". Include the \"helper.py\" and \"problem_unittests.py\" files in your submission."
   ]
  }
 ],
 "metadata": {
  "anaconda-cloud": {},
  "kernelspec": {
   "display_name": "Python [default]",
   "language": "python",
   "name": "python3"
  },
  "language_info": {
   "codemirror_mode": {
    "name": "ipython",
    "version": 3
   },
   "file_extension": ".py",
   "mimetype": "text/x-python",
   "name": "python",
   "nbconvert_exporter": "python",
   "pygments_lexer": "ipython3",
   "version": "3.5.2"
  }
 },
 "nbformat": 4,
 "nbformat_minor": 0
}
